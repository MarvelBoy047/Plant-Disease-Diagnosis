{
 "cells": [
  {
   "cell_type": "markdown",
   "id": "5c2b0707",
   "metadata": {
    "papermill": {
     "duration": 0.012002,
     "end_time": "2024-09-05T08:54:52.233579",
     "exception": false,
     "start_time": "2024-09-05T08:54:52.221577",
     "status": "completed"
    },
    "tags": []
   },
   "source": [
    "# Plant Disease Detection \n",
    "using CNN classification with PyTorch"
   ]
  },
  {
   "cell_type": "markdown",
   "id": "20bcb926",
   "metadata": {
    "papermill": {
     "duration": 0.010825,
     "end_time": "2024-09-05T08:54:52.255625",
     "exception": false,
     "start_time": "2024-09-05T08:54:52.244800",
     "status": "completed"
    },
    "tags": []
   },
   "source": [
    "## Loading libraries "
   ]
  },
  {
   "cell_type": "code",
   "execution_count": 1,
   "id": "69151c30",
   "metadata": {
    "execution": {
     "iopub.execute_input": "2024-09-05T08:54:52.278978Z",
     "iopub.status.busy": "2024-09-05T08:54:52.278583Z",
     "iopub.status.idle": "2024-09-05T08:55:09.667531Z",
     "shell.execute_reply": "2024-09-05T08:55:09.666663Z"
    },
    "papermill": {
     "duration": 17.403534,
     "end_time": "2024-09-05T08:55:09.670152",
     "exception": false,
     "start_time": "2024-09-05T08:54:52.266618",
     "status": "completed"
    },
    "tags": []
   },
   "outputs": [],
   "source": [
<<<<<<< HEAD
=======
    "# ------------------ MAIN LIBRARIES -----------------\n",
>>>>>>> e2594cc227a38c68a68696dc246089263ce22210
    "import torch\n",
    "import torch.onnx\n",
    "import torch.nn as nn\n",
    "import torch.optim as optim\n",
    "import torch.nn.functional as F\n",
    "import tensorflow as tf\n",
    "from torchvision import transforms, datasets\n",
    "from torch.utils.data import DataLoader, Subset\n",
    "from sklearn.model_selection import train_test_split\n",
<<<<<<< HEAD
=======
    "\n",
    "# ------------------ HELPING LIBRARIES -------------------\n",
>>>>>>> e2594cc227a38c68a68696dc246089263ce22210
    "from PIL import Image\n",
    "import os\n",
    "import shutil\n",
    "import matplotlib.pyplot as plt\n",
    "import numpy as np\n",
    "import pandas as pd\n"
   ]
  },
  {
   "cell_type": "markdown",
   "id": "e77b5752",
   "metadata": {
    "papermill": {
     "duration": 0.010919,
     "end_time": "2024-09-05T08:55:09.694517",
     "exception": false,
     "start_time": "2024-09-05T08:55:09.683598",
     "status": "completed"
    },
    "tags": []
   },
   "source": [
    "## Preparing Dataset "
   ]
  },
  {
   "cell_type": "code",
   "execution_count": 5,
   "id": "9f34da70",
   "metadata": {
    "execution": {
     "iopub.execute_input": "2024-09-05T08:55:09.718521Z",
     "iopub.status.busy": "2024-09-05T08:55:09.717970Z",
     "iopub.status.idle": "2024-09-05T08:55:09.755377Z",
     "shell.execute_reply": "2024-09-05T08:55:09.754214Z"
    },
    "papermill": {
     "duration": 0.052115,
     "end_time": "2024-09-05T08:55:09.757785",
     "exception": false,
     "start_time": "2024-09-05T08:55:09.705670",
     "status": "completed"
    },
    "tags": []
   },
   "outputs": [
    {
     "name": "stdout",
     "output_type": "stream",
     "text": [
      "Classes:\n",
      "Apple___Apple_scab\n",
      "Apple___Black_rot\n",
      "Apple___Cedar_apple_rust\n",
      "Apple___healthy\n",
      "Blueberry___healthy\n",
      "Cherry_(including_sour)___healthy\n",
      "Cherry_(including_sour)___Powdery_mildew\n",
      "Corn_(maize)___Cercospora_leaf_spot Gray_leaf_spot\n",
      "Corn_(maize)___Common_rust_\n",
      "Corn_(maize)___healthy\n",
      "Corn_(maize)___Northern_Leaf_Blight\n",
      "Grape___Black_rot\n",
      "Grape___Esca_(Black_Measles)\n",
      "Grape___healthy\n",
      "Grape___Leaf_blight_(Isariopsis_Leaf_Spot)\n",
      "Orange___Haunglongbing_(Citrus_greening)\n",
      "Peach___Bacterial_spot\n",
      "Peach___healthy\n",
      "Pepper,_bell___Bacterial_spot\n",
      "Pepper,_bell___healthy\n",
      "Potato___Early_blight\n",
      "Potato___healthy\n",
      "Potato___Late_blight\n",
      "Raspberry___healthy\n",
      "Soybean___healthy\n",
      "Squash___Powdery_mildew\n",
      "Strawberry___healthy\n",
      "Strawberry___Leaf_scorch\n",
      "Tomato___Bacterial_spot\n",
      "Tomato___Early_blight\n",
      "Tomato___healthy\n",
      "Tomato___Late_blight\n",
      "Tomato___Leaf_Mold\n",
      "Tomato___Septoria_leaf_spot\n",
      "Tomato___Spider_mites Two-spotted_spider_mite\n",
      "Tomato___Target_Spot\n",
      "Tomato___Tomato_mosaic_virus\n",
      "Tomato___Tomato_Yellow_Leaf_Curl_Virus\n"
     ]
    }
   ],
   "source": [
    "# list the classes of the dataset\n",
    "\n",
    "\n",
    "# The path to the main directory \n",
    "main_dir = r'DATASET\\New Plant Diseases Dataset(Augmented)\\New Plant Diseases Dataset(Augmented)\\train'  \n",
    "\n",
    "# List all subdirectories (classes) in the main directory\n",
    "classes = [d for d in os.listdir(main_dir) if os.path.isdir(os.path.join(main_dir, d))]\n",
    "\n",
    "# Print the names of the classes\n",
    "print(\"Classes:\")\n",
    "for class_name in classes:\n",
    "    print(class_name)\n"
   ]
  },
  {
   "cell_type": "markdown",
   "id": "94421174",
   "metadata": {
    "papermill": {
     "duration": 0.011396,
     "end_time": "2024-09-05T08:55:09.780395",
     "exception": false,
     "start_time": "2024-09-05T08:55:09.768999",
     "status": "completed"
    },
    "tags": []
   },
   "source": [
    "### Taking a subset of the main \"New Plant Disease Dataset\""
   ]
  },
  {
   "cell_type": "code",
   "execution_count": 6,
   "id": "5b4c1b19",
   "metadata": {
    "execution": {
     "iopub.execute_input": "2024-09-05T08:55:09.805435Z",
     "iopub.status.busy": "2024-09-05T08:55:09.805123Z",
     "iopub.status.idle": "2024-09-05T08:56:39.602456Z",
     "shell.execute_reply": "2024-09-05T08:56:39.601526Z"
    },
    "papermill": {
     "duration": 89.82444,
     "end_time": "2024-09-05T08:56:39.616633",
     "exception": false,
     "start_time": "2024-09-05T08:55:09.792193",
     "status": "completed"
    },
    "tags": []
   },
   "outputs": [
    {
     "name": "stdout",
     "output_type": "stream",
     "text": [
      "Subdirectories ['Grape___healthy', 'Corn_(maize)___Northern_Leaf_Blight', 'Corn_(maize)___Cercospora_leaf_spot Gray_leaf_spot', 'Grape___Leaf_blight_(Isariopsis_Leaf_Spot)', 'Grape___Black_rot', 'Corn_(maize)___Common_rust_', 'Grape___Esca_(Black_Measles)', 'Corn_(maize)___healthy'] copied to DATASET/new_directory\n"
     ]
    }
   ],
   "source": [
    "\n",
    "# List the subdirectories to work on\n",
    "subdirs_to_copy = ['Grape___healthy', 'Corn_(maize)___Northern_Leaf_Blight', 'Corn_(maize)___Cercospora_leaf_spot Gray_leaf_spot','Grape___Leaf_blight_(Isariopsis_Leaf_Spot)', 'Grape___Black_rot','Corn_(maize)___Common_rust_','Grape___Esca_(Black_Measles)','Corn_(maize)___healthy']  \n",
    "\n",
    "# Create a new directory in the Kaggle working directory\n",
    "subset_dir = r'DATASET/new_directory'\n",
    "os.makedirs(subset_dir, exist_ok=True)\n",
    "\n",
    "# Copy the selected subdirectories to the new directory\n",
    "for subdir_name in subdirs_to_copy:\n",
    "    src_dir_path = os.path.join(main_dir, subdir_name)\n",
    "    dest_dir_path = os.path.join(subset_dir, subdir_name)\n",
    "    shutil.copytree(src_dir_path, dest_dir_path)\n",
    "\n",
    "print(f\"Subdirectories {subdirs_to_copy} copied to {subset_dir}\")\n"
   ]
  },
  {
   "cell_type": "code",
   "execution_count": 7,
   "id": "d73a0967",
   "metadata": {
    "execution": {
     "iopub.execute_input": "2024-09-05T08:56:39.642548Z",
     "iopub.status.busy": "2024-09-05T08:56:39.641761Z",
     "iopub.status.idle": "2024-09-05T08:56:39.674883Z",
     "shell.execute_reply": "2024-09-05T08:56:39.673775Z"
    },
    "papermill": {
     "duration": 0.048462,
     "end_time": "2024-09-05T08:56:39.676686",
     "exception": false,
     "start_time": "2024-09-05T08:56:39.628224",
     "status": "completed"
    },
    "tags": []
   },
   "outputs": [
    {
     "name": "stdout",
     "output_type": "stream",
     "text": [
      "Total number of images: 14538\n"
     ]
    }
   ],
   "source": [
    "# Size of the subset data set\n",
    "# Initialize a counter for the number of images\n",
    "image_count = 0\n",
    "\n",
    "# Iterate over all subdirectories and count the images\n",
    "for subdir, _, files in os.walk(subset_dir):\n",
    "    image_files = [f for f in files if f.lower().endswith(('.png', '.jpg', '.jpeg', '.gif', '.bmp', '.tiff'))]\n",
    "    image_count += len(image_files)\n",
    "\n",
    "print(f\"Total number of images: {image_count}\")\n"
   ]
  },
  {
   "cell_type": "markdown",
   "id": "ec3a9a28",
   "metadata": {
    "papermill": {
     "duration": 0.011189,
     "end_time": "2024-09-05T08:56:39.699779",
     "exception": false,
     "start_time": "2024-09-05T08:56:39.688590",
     "status": "completed"
    },
    "tags": []
   },
   "source": [
    "### Data Preprocessing"
   ]
  },
  {
   "cell_type": "code",
   "execution_count": 8,
   "id": "8b28d845",
   "metadata": {
    "execution": {
     "iopub.execute_input": "2024-09-05T08:56:39.723596Z",
     "iopub.status.busy": "2024-09-05T08:56:39.723287Z",
     "iopub.status.idle": "2024-09-05T08:56:39.727154Z",
     "shell.execute_reply": "2024-09-05T08:56:39.726414Z"
    },
    "papermill": {
     "duration": 0.017869,
     "end_time": "2024-09-05T08:56:39.728929",
     "exception": false,
     "start_time": "2024-09-05T08:56:39.711060",
     "status": "completed"
    },
    "tags": []
   },
   "outputs": [],
   "source": [
    "dataset_path = r'DATASET\\new_directory'"
   ]
  },
  {
   "cell_type": "code",
   "execution_count": 9,
   "id": "87eb9035",
   "metadata": {
    "execution": {
     "iopub.execute_input": "2024-09-05T08:56:39.753416Z",
     "iopub.status.busy": "2024-09-05T08:56:39.753109Z",
     "iopub.status.idle": "2024-09-05T08:56:39.758249Z",
     "shell.execute_reply": "2024-09-05T08:56:39.757413Z"
    },
    "papermill": {
     "duration": 0.019947,
     "end_time": "2024-09-05T08:56:39.760212",
     "exception": false,
     "start_time": "2024-09-05T08:56:39.740265",
     "status": "completed"
    },
    "tags": []
   },
   "outputs": [],
   "source": [
    "transform = transforms.Compose([\n",
    "    transforms.Resize((150, 150)),              # resize all images to 150x150 pixels\n",
    "    transforms.ToTensor(),                      # convert images to PyTorch tensors\n",
    "    transforms.Normalize([0.485, 0.456, 0.406], [0.229, 0.224, 0.225])\n",
    "])"
   ]
  },
  {
   "cell_type": "code",
   "execution_count": 10,
   "id": "8255b0a6",
   "metadata": {
    "execution": {
     "iopub.execute_input": "2024-09-05T08:56:39.785115Z",
     "iopub.status.busy": "2024-09-05T08:56:39.784221Z",
     "iopub.status.idle": "2024-09-05T08:56:39.859784Z",
     "shell.execute_reply": "2024-09-05T08:56:39.858996Z"
    },
    "papermill": {
     "duration": 0.089729,
     "end_time": "2024-09-05T08:56:39.861849",
     "exception": false,
     "start_time": "2024-09-05T08:56:39.772120",
     "status": "completed"
    },
    "tags": []
   },
   "outputs": [],
   "source": [
    "dataset = datasets.ImageFolder(dataset_path, transform=transform)"
   ]
  },
  {
   "cell_type": "markdown",
   "id": "024943ca",
   "metadata": {
    "papermill": {
     "duration": 0.011242,
     "end_time": "2024-09-05T08:56:39.884797",
     "exception": false,
     "start_time": "2024-09-05T08:56:39.873555",
     "status": "completed"
    },
    "tags": []
   },
   "source": [
    "## Train - Test Split"
   ]
  },
  {
   "cell_type": "code",
   "execution_count": 11,
   "id": "08e68930",
   "metadata": {
    "execution": {
     "iopub.execute_input": "2024-09-05T08:56:39.908853Z",
     "iopub.status.busy": "2024-09-05T08:56:39.908297Z",
     "iopub.status.idle": "2024-09-05T08:56:39.918899Z",
     "shell.execute_reply": "2024-09-05T08:56:39.918062Z"
    },
    "papermill": {
     "duration": 0.024837,
     "end_time": "2024-09-05T08:56:39.920897",
     "exception": false,
     "start_time": "2024-09-05T08:56:39.896060",
     "status": "completed"
    },
    "tags": []
   },
   "outputs": [],
   "source": [
    "train_idx, test_idx = train_test_split(list(range(len(dataset))), test_size=0.3, random_state=42)\n",
    "\n",
    "train_dataset = Subset(dataset, train_idx)\n",
    "test_dataset = Subset(dataset, test_idx)"
   ]
  },
  {
   "cell_type": "code",
   "execution_count": 12,
   "id": "24fc0911",
   "metadata": {
    "execution": {
     "iopub.execute_input": "2024-09-05T08:56:39.945018Z",
     "iopub.status.busy": "2024-09-05T08:56:39.944467Z",
     "iopub.status.idle": "2024-09-05T08:56:39.949497Z",
     "shell.execute_reply": "2024-09-05T08:56:39.948440Z"
    },
    "papermill": {
     "duration": 0.019559,
     "end_time": "2024-09-05T08:56:39.951702",
     "exception": false,
     "start_time": "2024-09-05T08:56:39.932143",
     "status": "completed"
    },
    "tags": []
   },
   "outputs": [],
   "source": [
    "trainloader = DataLoader(train_dataset, batch_size=15, shuffle=True)\n",
    "testloader = DataLoader(test_dataset, batch_size=15, shuffle=True)"
   ]
  },
  {
   "cell_type": "markdown",
   "id": "3286bf19",
   "metadata": {
    "papermill": {
     "duration": 0.012535,
     "end_time": "2024-09-05T08:56:39.975667",
     "exception": false,
     "start_time": "2024-09-05T08:56:39.963132",
     "status": "completed"
    },
    "tags": []
   },
   "source": [
    "## Defining CNN Model"
   ]
  },
  {
   "cell_type": "code",
   "execution_count": 13,
   "id": "279b0b77",
   "metadata": {
    "execution": {
     "iopub.execute_input": "2024-09-05T08:56:39.999973Z",
     "iopub.status.busy": "2024-09-05T08:56:39.999316Z",
     "iopub.status.idle": "2024-09-05T08:56:40.007989Z",
     "shell.execute_reply": "2024-09-05T08:56:40.007190Z"
    },
    "papermill": {
     "duration": 0.022837,
     "end_time": "2024-09-05T08:56:40.010003",
     "exception": false,
     "start_time": "2024-09-05T08:56:39.987166",
     "status": "completed"
    },
    "tags": []
   },
   "outputs": [],
   "source": [
    "class CNN_Classification(nn.Module):\n",
    "    def __init__(self):\n",
    "        super(CNN_Classification, self).__init__()\n",
    "\n",
    "        # Convolutional Layers\n",
    "        self.conv1 = nn.Conv2d(3, 32, kernel_size=3, stride=1, padding=1)       # first convolutional layers\n",
    "        self.pool = nn.MaxPool2d(kernel_size=2, stride=2, padding=0)            # first pooling layer\n",
    "        self.conv2 = nn.Conv2d(32, 64, kernel_size=3, stride=1, padding=1)      # second convolutional layer\n",
    "        self.fc1 = nn.Linear(64 * 37 * 37, 128)                                 # 37 x 37 is the size after pooling\n",
    "        self.fc2 = nn.Linear(128, len(dataset.classes))\n",
    "\n",
    "    def forward(self, x):\n",
    "        x = self.pool(F.relu(self.conv1(x)))\n",
    "        x = self.pool(F.relu(self.conv2(x)))\n",
    "        x = torch.flatten(x, 1)                                                 # flatten all dimensions\n",
    "        x = torch.relu(self.fc1(x))\n",
    "        x = self.fc2(x)\n",
    "        return x"
   ]
  },
  {
   "cell_type": "code",
   "execution_count": 14,
   "id": "e666a0c5",
   "metadata": {
    "execution": {
     "iopub.execute_input": "2024-09-05T08:56:40.034034Z",
     "iopub.status.busy": "2024-09-05T08:56:40.033691Z",
     "iopub.status.idle": "2024-09-05T08:56:40.150710Z",
     "shell.execute_reply": "2024-09-05T08:56:40.149811Z"
    },
    "papermill": {
     "duration": 0.131823,
     "end_time": "2024-09-05T08:56:40.153126",
     "exception": false,
     "start_time": "2024-09-05T08:56:40.021303",
     "status": "completed"
    },
    "tags": []
   },
   "outputs": [],
   "source": [
    "CNN_Model = CNN_Classification()"
   ]
  },
  {
   "cell_type": "markdown",
   "id": "526a7a6e",
   "metadata": {
    "papermill": {
     "duration": 0.011276,
     "end_time": "2024-09-05T08:56:40.176283",
     "exception": false,
     "start_time": "2024-09-05T08:56:40.165007",
     "status": "completed"
    },
    "tags": []
   },
   "source": [
    "## Defining Loss Function and Optimizer"
   ]
  },
  {
   "cell_type": "code",
   "execution_count": 15,
   "id": "49982d80",
   "metadata": {
    "execution": {
     "iopub.execute_input": "2024-09-05T08:56:40.201406Z",
     "iopub.status.busy": "2024-09-05T08:56:40.200635Z",
     "iopub.status.idle": "2024-09-05T08:56:40.205654Z",
     "shell.execute_reply": "2024-09-05T08:56:40.204764Z"
    },
    "papermill": {
     "duration": 0.019677,
     "end_time": "2024-09-05T08:56:40.207576",
     "exception": false,
     "start_time": "2024-09-05T08:56:40.187899",
     "status": "completed"
    },
    "tags": []
   },
   "outputs": [],
   "source": [
    "criterion = nn.CrossEntropyLoss()\n",
    "optimizer = optim.Adam(CNN_Model.parameters(), lr=0.001)          # Defines the optimizer, Adam with a learning rate of 0.001"
   ]
  },
  {
   "cell_type": "markdown",
   "id": "f7881109",
   "metadata": {
    "papermill": {
     "duration": 0.011178,
     "end_time": "2024-09-05T08:56:40.230478",
     "exception": false,
     "start_time": "2024-09-05T08:56:40.219300",
     "status": "completed"
    },
    "tags": []
   },
   "source": [
    "## Training the Model"
   ]
  },
  {
   "cell_type": "code",
   "execution_count": 17,
   "id": "4df26ac0",
   "metadata": {
    "execution": {
     "iopub.execute_input": "2024-09-05T08:56:40.254130Z",
     "iopub.status.busy": "2024-09-05T08:56:40.253847Z",
     "iopub.status.idle": "2024-09-05T09:41:02.648000Z",
     "shell.execute_reply": "2024-09-05T09:41:02.646873Z"
    },
    "papermill": {
     "duration": 2662.423247,
     "end_time": "2024-09-05T09:41:02.664870",
     "exception": false,
     "start_time": "2024-09-05T08:56:40.241623",
     "status": "completed"
    },
    "tags": []
   },
   "outputs": [
    {
     "name": "stdout",
     "output_type": "stream",
     "text": [
      "Epoch 1/3, Loss: 0.08716251701116562\n",
      "Epoch 2/3, Loss: 0.00014631610247306526\n",
      "Epoch 3/3, Loss: 0.000729933672118932\n",
      "Finished Training\n"
     ]
    }
   ],
   "source": [
    "num_epochs = 3\n",
    "for epoch in range(num_epochs):\n",
    "\n",
    "    for images, labels in trainloader:\n",
    "        optimizer.zero_grad()\n",
    "        outputs = CNN_Model(images)\n",
    "        loss = criterion(outputs, labels)\n",
    "        loss.backward()\n",
    "        optimizer.step()\n",
    "\n",
    "    print(f'Epoch {epoch+1}/{num_epochs}, Loss: {loss.item()}')\n",
    "\n",
    "\n",
    "print('Finished Training')"
   ]
  },
  {
   "cell_type": "markdown",
   "id": "222a7c61",
   "metadata": {
    "papermill": {
     "duration": 0.011844,
     "end_time": "2024-09-05T09:41:02.689359",
     "exception": false,
     "start_time": "2024-09-05T09:41:02.677515",
     "status": "completed"
    },
    "tags": []
   },
   "source": [
    "## Evaluating the Model"
   ]
  },
  {
   "cell_type": "code",
   "execution_count": 18,
   "id": "07a63bc8",
   "metadata": {
    "execution": {
     "iopub.execute_input": "2024-09-05T09:41:02.714786Z",
     "iopub.status.busy": "2024-09-05T09:41:02.714418Z",
     "iopub.status.idle": "2024-09-05T09:41:49.583571Z",
     "shell.execute_reply": "2024-09-05T09:41:49.582592Z"
    },
    "papermill": {
     "duration": 46.899322,
     "end_time": "2024-09-05T09:41:49.600603",
     "exception": false,
     "start_time": "2024-09-05T09:41:02.701281",
     "status": "completed"
    },
    "tags": []
   },
   "outputs": [
    {
     "name": "stdout",
     "output_type": "stream",
     "text": [
      "Accuracy: 94 %\n"
     ]
    }
   ],
   "source": [
    "correct = 0\n",
    "total = 0\n",
    "with torch.no_grad():\n",
    "    for data in testloader:\n",
    "        images, labels = data\n",
    "        outputs = CNN_Model(images)\n",
    "        _, predicted = torch.max(outputs.data, 1)\n",
    "        total += labels.size(0)\n",
    "        correct += (predicted == labels).sum().item()\n",
    "\n",
    "print(f'Accuracy: {100 * correct // total} %')"
   ]
  },
  {
   "cell_type": "markdown",
   "id": "8b110877",
   "metadata": {
    "papermill": {
     "duration": 0.011969,
     "end_time": "2024-09-05T09:41:49.624951",
     "exception": false,
     "start_time": "2024-09-05T09:41:49.612982",
     "status": "completed"
    },
    "tags": []
   },
   "source": [
    "## Testing the Model"
   ]
  },
  {
   "cell_type": "code",
   "execution_count": 27,
   "id": "5cf571dc",
   "metadata": {
    "execution": {
     "iopub.execute_input": "2024-09-05T09:41:49.674855Z",
     "iopub.status.busy": "2024-09-05T09:41:49.674494Z",
     "iopub.status.idle": "2024-09-05T09:41:49.723878Z",
     "shell.execute_reply": "2024-09-05T09:41:49.722665Z"
    },
    "jupyter": {
     "source_hidden": true
    },
    "papermill": {
     "duration": 0.064788,
     "end_time": "2024-09-05T09:41:49.725987",
     "exception": false,
     "start_time": "2024-09-05T09:41:49.661199",
     "status": "completed"
    },
    "tags": []
   },
   "outputs": [
    {
     "name": "stdout",
     "output_type": "stream",
     "text": [
      "Predicted class: Corn_(maize)___Common_rust_\n"
     ]
    }
   ],
   "source": [
    "# Load a test image and preprocess it\n",
    "\n",
    "img = Image.open(r'DATASET\\test\\test\\CornCommonRust3.JPG')\n",
    "img = transform(img).unsqueeze(0)  # add batch dimension\n",
    "\n",
    "# Pass the image through the model\n",
    "CNN_Model.eval()\n",
    "output = CNN_Model(img)\n",
    "_, predicted = torch.max(output, 1)\n",
    "print(f'Predicted class: {dataset.classes[predicted.item()]}')"
   ]
  },
  {
   "cell_type": "code",
   "execution_count": 35,
   "id": "e0ab0d1c",
   "metadata": {
    "execution": {
     "iopub.execute_input": "2024-09-05T09:41:49.778909Z",
     "iopub.status.busy": "2024-09-05T09:41:49.778503Z",
     "iopub.status.idle": "2024-09-05T09:41:49.813070Z",
     "shell.execute_reply": "2024-09-05T09:41:49.811776Z"
    },
    "jupyter": {
     "source_hidden": true
    },
    "papermill": {
     "duration": 0.050222,
     "end_time": "2024-09-05T09:41:49.815218",
     "exception": false,
     "start_time": "2024-09-05T09:41:49.764996",
     "status": "completed"
    },
    "tags": []
   },
   "outputs": [
    {
     "name": "stdout",
     "output_type": "stream",
     "text": [
      "Predicted class: Grape___Black_rot\n"
     ]
    }
   ],
   "source": [
    "# Load a test image and preprocess it\n",
    "\n",
    "img = Image.open(r'DATASET\\New Plant Diseases Dataset(Augmented)\\New Plant Diseases Dataset(Augmented)\\train\\Grape___Black_rot\\0a06c482-c94a-44d8-a895-be6fe17b8c06___FAM_B.Rot 5019.JPG')\n",
    "img = transform(img).unsqueeze(0)  # add batch dimension\n",
    "\n",
    "# Pass the image through the model\n",
    "CNN_Model.eval()\n",
    "output = CNN_Model(img)\n",
    "_, predicted = torch.max(output, 1)\n",
    "print(f'Predicted class: {dataset.classes[predicted.item()]}')"
   ]
  },
  {
   "cell_type": "markdown",
   "id": "f08c493b",
   "metadata": {
    "papermill": {
     "duration": 0.012482,
     "end_time": "2024-09-05T09:41:49.841322",
     "exception": false,
     "start_time": "2024-09-05T09:41:49.828840",
     "status": "completed"
    },
    "tags": []
   },
   "source": [
    "## Saving the Model"
   ]
  },
  {
   "cell_type": "code",
   "execution_count": 36,
   "id": "4e7800b4",
   "metadata": {
    "execution": {
     "iopub.execute_input": "2024-09-05T09:41:49.868604Z",
     "iopub.status.busy": "2024-09-05T09:41:49.867820Z",
     "iopub.status.idle": "2024-09-05T09:41:49.927772Z",
     "shell.execute_reply": "2024-09-05T09:41:49.926695Z"
    },
    "papermill": {
     "duration": 0.076095,
     "end_time": "2024-09-05T09:41:49.930108",
     "exception": false,
     "start_time": "2024-09-05T09:41:49.854013",
     "status": "completed"
    },
    "tags": []
   },
   "outputs": [],
   "source": [
    "torch.save(CNN_Model.state_dict(), 'model.pth')  "
   ]
  }
 ],
 "metadata": {
  "kaggle": {
   "accelerator": "nvidiaTeslaT4",
   "dataSources": [
    {
     "datasetId": 78313,
     "sourceId": 182633,
     "sourceType": "datasetVersion"
    }
   ],
   "dockerImageVersionId": 30761,
   "isGpuEnabled": true,
   "isInternetEnabled": true,
   "language": "python",
   "sourceType": "notebook"
  },
  "kernelspec": {
   "display_name": "Python 3",
   "language": "python",
   "name": "python3"
  },
  "language_info": {
   "codemirror_mode": {
    "name": "ipython",
    "version": 3
   },
   "file_extension": ".py",
   "mimetype": "text/x-python",
   "name": "python",
   "nbconvert_exporter": "python",
   "pygments_lexer": "ipython3",
   "version": "3.12.2"
  },
  "papermill": {
   "default_parameters": {},
   "duration": 2823.992033,
   "end_time": "2024-09-05T09:41:53.534937",
   "environment_variables": {},
   "exception": null,
   "input_path": "__notebook__.ipynb",
   "output_path": "__notebook__.ipynb",
   "parameters": {},
   "start_time": "2024-09-05T08:54:49.542904",
   "version": "2.6.0"
  }
 },
 "nbformat": 4,
 "nbformat_minor": 5
}
